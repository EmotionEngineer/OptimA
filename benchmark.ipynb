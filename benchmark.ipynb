{
 "cells": [
  {
   "cell_type": "markdown",
   "id": "466ee068",
   "metadata": {
    "papermill": {
     "duration": 0.003603,
     "end_time": "2024-11-04T22:40:55.944053",
     "exception": false,
     "start_time": "2024-11-04T22:40:55.940450",
     "status": "completed"
    },
    "tags": []
   },
   "source": [
    "# Optimal Activation Benchmark"
   ]
  },
  {
   "cell_type": "code",
   "execution_count": 1,
   "id": "d0d4e7c2",
   "metadata": {
    "_cell_guid": "b1076dfc-b9ad-4769-8c92-a6c4dae69d19",
    "_uuid": "8f2839f25d086af736a60e9eeb907d3b93b6e0e5",
    "execution": {
     "iopub.execute_input": "2024-11-04T22:40:55.951627Z",
     "iopub.status.busy": "2024-11-04T22:40:55.951271Z",
     "iopub.status.idle": "2024-11-04T22:41:10.002496Z",
     "shell.execute_reply": "2024-11-04T22:41:10.001671Z"
    },
    "papermill": {
     "duration": 14.057527,
     "end_time": "2024-11-04T22:41:10.004797",
     "exception": false,
     "start_time": "2024-11-04T22:40:55.947270",
     "status": "completed"
    },
    "tags": []
   },
   "outputs": [],
   "source": [
    "# Import necessary libraries\n",
    "import tensorflow as tf\n",
    "from tensorflow.keras.layers import Layer, Dense, Input\n",
    "from tensorflow.keras.models import Sequential\n",
    "from tensorflow.keras.datasets import boston_housing\n",
    "from tensorflow.keras.optimizers import Adam\n",
    "from tensorflow.keras.callbacks import EarlyStopping\n",
    "from tensorflow.keras.utils import to_categorical\n",
    "from sklearn.datasets import load_iris, load_wine, load_diabetes, fetch_california_housing\n",
    "from sklearn.model_selection import train_test_split\n",
    "from sklearn.preprocessing import StandardScaler\n",
    "import numpy as np\n",
    "import pandas as pd\n",
    "from sklearn import datasets\n",
    "import random"
   ]
  },
  {
   "cell_type": "code",
   "execution_count": 2,
   "id": "a4cfef72",
   "metadata": {
    "execution": {
     "iopub.execute_input": "2024-11-04T22:41:10.012640Z",
     "iopub.status.busy": "2024-11-04T22:41:10.012086Z",
     "iopub.status.idle": "2024-11-04T22:41:10.017453Z",
     "shell.execute_reply": "2024-11-04T22:41:10.016607Z"
    },
    "papermill": {
     "duration": 0.011194,
     "end_time": "2024-11-04T22:41:10.019320",
     "exception": false,
     "start_time": "2024-11-04T22:41:10.008126",
     "status": "completed"
    },
    "tags": []
   },
   "outputs": [],
   "source": [
    "def set_seed(seed=42):\n",
    "    tf.random.set_seed(seed)\n",
    "    np.random.seed(seed)\n",
    "    random.seed(seed)\n",
    "\n",
    "# Fix seed\n",
    "set_seed(42)"
   ]
  },
  {
   "cell_type": "code",
   "execution_count": 3,
   "id": "a5e8b320",
   "metadata": {
    "execution": {
     "iopub.execute_input": "2024-11-04T22:41:10.026411Z",
     "iopub.status.busy": "2024-11-04T22:41:10.026115Z",
     "iopub.status.idle": "2024-11-04T22:41:10.040004Z",
     "shell.execute_reply": "2024-11-04T22:41:10.039123Z"
    },
    "papermill": {
     "duration": 0.019735,
     "end_time": "2024-11-04T22:41:10.042007",
     "exception": false,
     "start_time": "2024-11-04T22:41:10.022272",
     "status": "completed"
    },
    "tags": []
   },
   "outputs": [],
   "source": [
    "# Define custom activation functions\n",
    "class OptimA(Layer):  # Optimal Activation\n",
    "    def __init__(self, **kwargs):\n",
    "        super(OptimA, self).__init__(**kwargs)\n",
    "\n",
    "    def build(self, input_shape):\n",
    "        # Defining trainable parameters\n",
    "        self.alpha = self.add_weight(name='alpha', shape=(), initializer='ones', trainable=True)\n",
    "        self.beta = self.add_weight(name='beta', shape=(), initializer=tf.keras.initializers.Constant(0.5), trainable=True)\n",
    "        self.gamma = self.add_weight(name='gamma', shape=(), initializer='ones', trainable=True)\n",
    "        self.delta = self.add_weight(name='delta', shape=(), initializer=tf.keras.initializers.Constant(0.5), trainable=True)\n",
    "        self.lambda_ = self.add_weight(name='lambda', shape=(), initializer='ones', trainable=True)\n",
    "\n",
    "    def call(self, x):\n",
    "        term1 = self.alpha * tf.math.tanh(self.beta * x)\n",
    "        term2 = self.gamma * tf.math.softplus(self.delta * x) * tf.math.sigmoid(self.lambda_ * x)\n",
    "        return term1 + term2\n",
    "\n",
    "class OptimALinear(Layer):  # Optimal Activation (Linear Approximation)\n",
    "    def __init__(self, epsilon=1e-5, **kwargs):\n",
    "        super(OptimALinear, self).__init__(**kwargs)\n",
    "        self.epsilon = epsilon\n",
    "\n",
    "    def build(self, input_shape):\n",
    "        # Defining trainable parameters\n",
    "        self.alpha = self.add_weight(name='alpha', shape=(), initializer='ones', trainable=True)\n",
    "        self.beta = self.add_weight(name='beta', shape=(), initializer=tf.keras.initializers.Constant(0.5), trainable=True)\n",
    "        self.gamma = self.add_weight(name='gamma', shape=(), initializer='ones', trainable=True)\n",
    "        self.delta = self.add_weight(name='delta', shape=(), initializer=tf.keras.initializers.Constant(0.5), trainable=True)\n",
    "        self.lambda_ = self.add_weight(name='lambda', shape=(), initializer='ones', trainable=True)\n",
    "\n",
    "    def call(self, x):\n",
    "        # Linear approximation for tanh\n",
    "        term1 = self.alpha * tf.clip_by_value(self.beta * x, -1, 1)\n",
    "        \n",
    "        # Linear approximations for softplus and sigmoid\n",
    "        term2 = self.gamma * (tf.maximum(0.0, self.delta * x) + self.epsilon) * (0.5 + 0.25 * self.lambda_ * x)\n",
    "        \n",
    "        return term1 + term2"
   ]
  },
  {
   "cell_type": "code",
   "execution_count": 4,
   "id": "650507b5",
   "metadata": {
    "execution": {
     "iopub.execute_input": "2024-11-04T22:41:10.049324Z",
     "iopub.status.busy": "2024-11-04T22:41:10.048806Z",
     "iopub.status.idle": "2024-11-04T22:41:10.651763Z",
     "shell.execute_reply": "2024-11-04T22:41:10.650960Z"
    },
    "papermill": {
     "duration": 0.608941,
     "end_time": "2024-11-04T22:41:10.654034",
     "exception": false,
     "start_time": "2024-11-04T22:41:10.045093",
     "status": "completed"
    },
    "tags": []
   },
   "outputs": [
    {
     "name": "stdout",
     "output_type": "stream",
     "text": [
      "Downloading data from https://storage.googleapis.com/tensorflow/tf-keras-datasets/boston_housing.npz\n",
      "\u001b[1m57026/57026\u001b[0m \u001b[32m━━━━━━━━━━━━━━━━━━━━\u001b[0m\u001b[37m\u001b[0m \u001b[1m0s\u001b[0m 0us/step\n"
     ]
    }
   ],
   "source": [
    "# Load and prepare data for different tasks\n",
    "# 1. Regression: Boston Housing\n",
    "(x_train_boston, y_train_boston), (x_test_boston, y_test_boston) = boston_housing.load_data()\n",
    "scaler_boston = StandardScaler()\n",
    "x_train_boston = scaler_boston.fit_transform(x_train_boston)\n",
    "x_test_boston = scaler_boston.transform(x_test_boston)\n",
    "\n",
    "# 2. Classification: Iris\n",
    "data_iris = load_iris()\n",
    "x_train_iris, x_test_iris, y_train_iris, y_test_iris = train_test_split(data_iris.data, data_iris.target, test_size=0.2)\n",
    "scaler_iris = StandardScaler()\n",
    "x_train_iris = scaler_iris.fit_transform(x_train_iris)\n",
    "x_test_iris = scaler_iris.transform(x_test_iris)\n",
    "y_train_iris = to_categorical(y_train_iris)\n",
    "y_test_iris = to_categorical(y_test_iris)\n",
    "\n",
    "# 3. Multiclass Classification: Wine\n",
    "data_wine = load_wine()\n",
    "x_train_wine, x_test_wine, y_train_wine, y_test_wine = train_test_split(data_wine.data, data_wine.target, test_size=0.2)\n",
    "scaler_wine = StandardScaler()\n",
    "x_train_wine = scaler_wine.fit_transform(x_train_wine)\n",
    "x_test_wine = scaler_wine.transform(x_test_wine)\n",
    "y_train_wine = to_categorical(y_train_wine)\n",
    "y_test_wine = to_categorical(y_test_wine)\n",
    "\n",
    "# 4. Regression: Diabetes Dataset\n",
    "data_diabetes = load_diabetes()\n",
    "x_train_diabetes, x_test_diabetes, y_train_diabetes, y_test_diabetes = train_test_split(\n",
    "    data_diabetes.data, data_diabetes.target, test_size=0.2, random_state=42\n",
    ")\n",
    "scaler_diabetes = StandardScaler()\n",
    "x_train_diabetes = scaler_diabetes.fit_transform(x_train_diabetes)\n",
    "x_test_diabetes = scaler_diabetes.transform(x_test_diabetes)\n",
    "\n",
    "# 5. Regression: California Housing Dataset\n",
    "data_california = fetch_california_housing()\n",
    "x_train_california, x_test_california, y_train_california, y_test_california = train_test_split(\n",
    "    data_california.data, data_california.target, test_size=0.2, random_state=42\n",
    ")\n",
    "scaler_california = StandardScaler()\n",
    "x_train_california = scaler_california.fit_transform(x_train_california)\n",
    "x_test_california = scaler_california.transform(x_test_california)"
   ]
  },
  {
   "cell_type": "code",
   "execution_count": 5,
   "id": "fcd232bb",
   "metadata": {
    "execution": {
     "iopub.execute_input": "2024-11-04T22:41:10.662664Z",
     "iopub.status.busy": "2024-11-04T22:41:10.662346Z",
     "iopub.status.idle": "2024-11-04T22:41:10.672206Z",
     "shell.execute_reply": "2024-11-04T22:41:10.671346Z"
    },
    "papermill": {
     "duration": 0.016234,
     "end_time": "2024-11-04T22:41:10.674121",
     "exception": false,
     "start_time": "2024-11-04T22:41:10.657887",
     "status": "completed"
    },
    "tags": []
   },
   "outputs": [],
   "source": [
    "# Function to build and evaluate model for a given task\n",
    "def build_and_evaluate_model(x_train, y_train, x_test, y_test, activation, name, task_type=\"classification\"):\n",
    "    model = Sequential()\n",
    "    if task_type == \"classification\":\n",
    "        model.add(Dense(64, activation=activation, input_shape=(x_train.shape[1],)))\n",
    "        if y_train.ndim == 1:  # Check if it's binary classification by the dimension of y_train\n",
    "            model.add(Dense(1, activation='sigmoid'))\n",
    "            loss = 'binary_crossentropy'\n",
    "            metrics = ['accuracy']\n",
    "        else:  # Multiclass classification\n",
    "            model.add(Dense(y_train.shape[1], activation='softmax'))\n",
    "            loss = 'categorical_crossentropy'\n",
    "            metrics = ['accuracy']\n",
    "    elif task_type == \"regression\":\n",
    "        model.add(Dense(64, activation=activation, input_shape=(x_train.shape[1],)))\n",
    "        model.add(Dense(1))\n",
    "        loss = 'mse'\n",
    "        metrics = ['mae']\n",
    "    else:\n",
    "        raise ValueError(\"Unsupported task type\")\n",
    "    \n",
    "    model.compile(optimizer=Adam(), loss=loss, metrics=metrics)\n",
    "    early_stop = EarlyStopping(monitor='val_loss', patience=5)\n",
    "    history = model.fit(x_train, y_train, validation_split=0.2, epochs=100, batch_size=32, callbacks=[early_stop], verbose=0)\n",
    "    \n",
    "    results = model.evaluate(x_test, y_test, verbose=0)\n",
    "    return results[1] if task_type == \"classification\" else results[0]  # accuracy for classification, MAE for regression"
   ]
  },
  {
   "cell_type": "code",
   "execution_count": 6,
   "id": "3a647225",
   "metadata": {
    "execution": {
     "iopub.execute_input": "2024-11-04T22:41:10.682102Z",
     "iopub.status.busy": "2024-11-04T22:41:10.681801Z",
     "iopub.status.idle": "2024-11-04T22:48:40.548533Z",
     "shell.execute_reply": "2024-11-04T22:48:40.547649Z"
    },
    "papermill": {
     "duration": 449.87352,
     "end_time": "2024-11-04T22:48:40.551020",
     "exception": false,
     "start_time": "2024-11-04T22:41:10.677500",
     "status": "completed"
    },
    "tags": []
   },
   "outputs": [
    {
     "name": "stdout",
     "output_type": "stream",
     "text": [
      "Evaluating OptimA activation...\n"
     ]
    },
    {
     "name": "stderr",
     "output_type": "stream",
     "text": [
      "/opt/conda/lib/python3.10/site-packages/keras/src/layers/core/dense.py:87: UserWarning: Do not pass an `input_shape`/`input_dim` argument to a layer. When using Sequential models, prefer using an `Input(shape)` object as the first layer in the model instead.\n",
      "  super().__init__(activity_regularizer=activity_regularizer, **kwargs)\n",
      "WARNING: All log messages before absl::InitializeLog() is called are written to STDERR\n",
      "I0000 00:00:1730760072.988629      65 service.cc:145] XLA service 0x7e22ac00adc0 initialized for platform CUDA (this does not guarantee that XLA will be used). Devices:\n",
      "I0000 00:00:1730760072.988682      65 service.cc:153]   StreamExecutor device (0): Tesla P100-PCIE-16GB, Compute Capability 6.0\n",
      "I0000 00:00:1730760073.991342      65 device_compiler.h:188] Compiled cluster using XLA!  This line is logged at most once for the lifetime of the process.\n"
     ]
    },
    {
     "name": "stdout",
     "output_type": "stream",
     "text": [
      "Evaluating OptimALinear activation...\n",
      "Evaluating ReLU activation...\n",
      "Evaluating ELU activation...\n",
      "Evaluating Swish activation...\n",
      "Evaluating GeLU activation...\n"
     ]
    }
   ],
   "source": [
    "# Dictionary of activation functions and results\n",
    "activations = {\n",
    "    'OptimA': OptimA(),\n",
    "    'OptimALinear': OptimALinear(),\n",
    "    'ReLU': 'relu',\n",
    "    'ELU': 'elu',\n",
    "    'Swish': 'swish',\n",
    "    'GeLU': 'gelu'\n",
    "}\n",
    "\n",
    "results = {\n",
    "    'Boston Housing (Regression)': {},\n",
    "    'Iris (Classification)': {},\n",
    "    'Wine (Multiclass Classification)': {},\n",
    "    'Diabetes (Regression)': {},\n",
    "    'California Housing (Regression)': {}\n",
    "}\n",
    "\n",
    "# Train and evaluate on each task\n",
    "for name, activation in activations.items():\n",
    "    print(f\"Evaluating {name} activation...\")\n",
    "    results['Boston Housing (Regression)'][name] = build_and_evaluate_model(\n",
    "        x_train_boston, y_train_boston, x_test_boston, y_test_boston, activation, name, task_type=\"regression\"\n",
    "    )\n",
    "    results['Iris (Classification)'][name] = build_and_evaluate_model(\n",
    "        x_train_iris, y_train_iris, x_test_iris, y_test_iris, activation, name, task_type=\"classification\"\n",
    "    )\n",
    "    results['Wine (Multiclass Classification)'][name] = build_and_evaluate_model(\n",
    "        x_train_wine, y_train_wine, x_test_wine, y_test_wine, activation, name, task_type=\"classification\"\n",
    "    )\n",
    "    results['Diabetes (Regression)'][name] = build_and_evaluate_model(\n",
    "        x_train_diabetes, y_train_diabetes, x_test_diabetes, y_test_diabetes, activation, name, task_type=\"regression\"\n",
    "    )\n",
    "    results['California Housing (Regression)'][name] = build_and_evaluate_model(\n",
    "        x_train_california, y_train_california, x_test_california, y_test_california, activation, name, task_type=\"regression\"\n",
    "    )"
   ]
  },
  {
   "cell_type": "code",
   "execution_count": 7,
   "id": "d60d7932",
   "metadata": {
    "execution": {
     "iopub.execute_input": "2024-11-04T22:48:40.560817Z",
     "iopub.status.busy": "2024-11-04T22:48:40.560290Z",
     "iopub.status.idle": "2024-11-04T22:48:40.581850Z",
     "shell.execute_reply": "2024-11-04T22:48:40.580997Z"
    },
    "papermill": {
     "duration": 0.028322,
     "end_time": "2024-11-04T22:48:40.583671",
     "exception": false,
     "start_time": "2024-11-04T22:48:40.555349",
     "status": "completed"
    },
    "tags": []
   },
   "outputs": [
    {
     "data": {
      "text/html": [
       "<div>\n",
       "<style scoped>\n",
       "    .dataframe tbody tr th:only-of-type {\n",
       "        vertical-align: middle;\n",
       "    }\n",
       "\n",
       "    .dataframe tbody tr th {\n",
       "        vertical-align: top;\n",
       "    }\n",
       "\n",
       "    .dataframe thead th {\n",
       "        text-align: right;\n",
       "    }\n",
       "</style>\n",
       "<table border=\"1\" class=\"dataframe\">\n",
       "  <thead>\n",
       "    <tr style=\"text-align: right;\">\n",
       "      <th></th>\n",
       "      <th>Boston Housing (Regression)</th>\n",
       "      <th>Iris (Classification)</th>\n",
       "      <th>Wine (Multiclass Classification)</th>\n",
       "      <th>Diabetes (Regression)</th>\n",
       "      <th>California Housing (Regression)</th>\n",
       "    </tr>\n",
       "  </thead>\n",
       "  <tbody>\n",
       "    <tr>\n",
       "      <th>OptimA</th>\n",
       "      <td>20.355732</td>\n",
       "      <td>1.000000</td>\n",
       "      <td>1.000000</td>\n",
       "      <td>3021.601807</td>\n",
       "      <td>0.294267</td>\n",
       "    </tr>\n",
       "    <tr>\n",
       "      <th>OptimALinear</th>\n",
       "      <td>26.587408</td>\n",
       "      <td>1.000000</td>\n",
       "      <td>1.000000</td>\n",
       "      <td>3271.583984</td>\n",
       "      <td>0.744984</td>\n",
       "    </tr>\n",
       "    <tr>\n",
       "      <th>ReLU</th>\n",
       "      <td>24.586704</td>\n",
       "      <td>0.966667</td>\n",
       "      <td>0.972222</td>\n",
       "      <td>5695.401855</td>\n",
       "      <td>0.323596</td>\n",
       "    </tr>\n",
       "    <tr>\n",
       "      <th>ELU</th>\n",
       "      <td>22.702732</td>\n",
       "      <td>1.000000</td>\n",
       "      <td>1.000000</td>\n",
       "      <td>9833.832031</td>\n",
       "      <td>0.343384</td>\n",
       "    </tr>\n",
       "    <tr>\n",
       "      <th>Swish</th>\n",
       "      <td>24.963442</td>\n",
       "      <td>0.966667</td>\n",
       "      <td>1.000000</td>\n",
       "      <td>8055.658691</td>\n",
       "      <td>0.350013</td>\n",
       "    </tr>\n",
       "    <tr>\n",
       "      <th>GeLU</th>\n",
       "      <td>24.371468</td>\n",
       "      <td>1.000000</td>\n",
       "      <td>0.972222</td>\n",
       "      <td>6356.980469</td>\n",
       "      <td>0.323199</td>\n",
       "    </tr>\n",
       "  </tbody>\n",
       "</table>\n",
       "</div>"
      ],
      "text/plain": [
       "              Boston Housing (Regression)  Iris (Classification)  \\\n",
       "OptimA                          20.355732               1.000000   \n",
       "OptimALinear                    26.587408               1.000000   \n",
       "ReLU                            24.586704               0.966667   \n",
       "ELU                             22.702732               1.000000   \n",
       "Swish                           24.963442               0.966667   \n",
       "GeLU                            24.371468               1.000000   \n",
       "\n",
       "              Wine (Multiclass Classification)  Diabetes (Regression)  \\\n",
       "OptimA                                1.000000            3021.601807   \n",
       "OptimALinear                          1.000000            3271.583984   \n",
       "ReLU                                  0.972222            5695.401855   \n",
       "ELU                                   1.000000            9833.832031   \n",
       "Swish                                 1.000000            8055.658691   \n",
       "GeLU                                  0.972222            6356.980469   \n",
       "\n",
       "              California Housing (Regression)  \n",
       "OptimA                               0.294267  \n",
       "OptimALinear                         0.744984  \n",
       "ReLU                                 0.323596  \n",
       "ELU                                  0.343384  \n",
       "Swish                                0.350013  \n",
       "GeLU                                 0.323199  "
      ]
     },
     "execution_count": 7,
     "metadata": {},
     "output_type": "execute_result"
    }
   ],
   "source": [
    "# Display results in a table\n",
    "results_df = pd.DataFrame(results)\n",
    "results_df"
   ]
  }
 ],
 "metadata": {
  "kaggle": {
   "accelerator": "gpu",
   "dataSources": [],
   "dockerImageVersionId": 30787,
   "isGpuEnabled": true,
   "isInternetEnabled": true,
   "language": "python",
   "sourceType": "notebook"
  },
  "kernelspec": {
   "display_name": "Python 3",
   "language": "python",
   "name": "python3"
  },
  "language_info": {
   "codemirror_mode": {
    "name": "ipython",
    "version": 3
   },
   "file_extension": ".py",
   "mimetype": "text/x-python",
   "name": "python",
   "nbconvert_exporter": "python",
   "pygments_lexer": "ipython3",
   "version": "3.10.14"
  },
  "papermill": {
   "default_parameters": {},
   "duration": 470.836979,
   "end_time": "2024-11-04T22:48:44.113146",
   "environment_variables": {},
   "exception": null,
   "input_path": "__notebook__.ipynb",
   "output_path": "__notebook__.ipynb",
   "parameters": {},
   "start_time": "2024-11-04T22:40:53.276167",
   "version": "2.6.0"
  }
 },
 "nbformat": 4,
 "nbformat_minor": 5
}
